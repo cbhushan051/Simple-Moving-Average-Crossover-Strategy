{
  "nbformat": 4,
  "nbformat_minor": 0,
  "metadata": {
    "colab": {
      "name": "SMACrossover_Strategy.ipynb",
      "version": "0.3.2",
      "provenance": [],
      "collapsed_sections": [],
      "toc_visible": true
    },
    "kernelspec": {
      "name": "python3",
      "display_name": "Python 3"
    }
  },
  "cells": [
    {
      "cell_type": "markdown",
      "metadata": {
        "id": "yTa5QTf_VR-w",
        "colab_type": "text"
      },
      "source": [
        "# SMA Crossover Strategy\n",
        "A simple moving average is the simplest form of a moving average. A moving average is a mean value calculated over a specific number of recent data points. This value is periodically re-calculated, kicking out the oldest value in favour of the most recent period. \n",
        "\n",
        "We calculate values using the simple moving average formula:\n",
        "\n",
        "**Formula : SMA = (Sum of price values for n periods) / n**\n",
        "\n",
        "The greater the value for n, the smoother our moving average line will be, but the slower it will react to changes in the price. Smaller values for n will produce a faster-moving SMA line. It will react quicker to changes in the price, but it will be less smooth. \n",
        "\n",
        "It can be useful to compare a faster (i.e. a shorter period) SMA with a slower (i.e. a longer period) one. Using shorter and longer period, we visualize it as signal on the plot which help us whether we should sell or buy the share. So, basically it helps in trading in the stock market.\n",
        "\n",
        "**Trading Strategy: SMA Crossover**\n",
        "\n",
        "The simple moving average crossover strategy is a fairly basic trend-following system. It looks at two different price series, and provides a trading signal when one crosses over the other. In the plot, we can see that the price crossing was above a 50-period moving average. As an alternative, we can also use another moving average instead of the price.\n",
        "\n",
        "The key is that the direction of the signal is given by the direction of the cross of the faster-moving price series, over the slower one. So, for example, we might use a 50-period moving average as the fast series, and a 200-period moving average as the slower one. If the 50-period moving average *crossed above* the 200-period moving average, it would be a **buy signal**. If the 50-period moving average *crossed below* the slower moving average, it would be a **sell signal**.\n",
        "\n",
        "# About Dataset\n",
        "\n",
        "Data downloaded from kaggle.com. This data belong to the Google Stock price from 01/03/2012 ~ 12/30/2016 daily. There are 7 columns; Date, open, high, low, close and volume.\n",
        "\n",
        "Date - in format: mm-dd-yy\n",
        "\n",
        "Open - price of the stock at market open (USD)\n",
        "\n",
        "High - Highest price reached in the day\n",
        "\n",
        "Low Close - Lowest price reached in the day\n",
        "\n",
        "Volume - Number of shares traded\n",
        "\n"
      ]
    },
    {
      "cell_type": "markdown",
      "metadata": {
        "id": "CZVEnHCBYXbn",
        "colab_type": "text"
      },
      "source": [
        "**Importing Libraries**"
      ]
    },
    {
      "cell_type": "code",
      "metadata": {
        "id": "sII3MFHaVLM2",
        "colab_type": "code",
        "colab": {}
      },
      "source": [
        "import pandas as pd\n",
        "import numpy as np\n",
        "import matplotlib.pyplot as plt"
      ],
      "execution_count": 0,
      "outputs": []
    },
    {
      "cell_type": "markdown",
      "metadata": {
        "id": "d0IGxg23YyVj",
        "colab_type": "text"
      },
      "source": [
        "**Reading Dataset**"
      ]
    },
    {
      "cell_type": "code",
      "metadata": {
        "id": "sNsIaxqIYxxi",
        "colab_type": "code",
        "colab": {
          "base_uri": "https://localhost:8080/",
          "height": 204
        },
        "outputId": "5be696a8-e886-408d-dcd7-2b1b2e417d18"
      },
      "source": [
        "df = pd.read_csv('Google_Stock_Price_Train.csv')\n",
        "\n",
        "df.head()"
      ],
      "execution_count": 2,
      "outputs": [
        {
          "output_type": "execute_result",
          "data": {
            "text/html": [
              "<div>\n",
              "<style scoped>\n",
              "    .dataframe tbody tr th:only-of-type {\n",
              "        vertical-align: middle;\n",
              "    }\n",
              "\n",
              "    .dataframe tbody tr th {\n",
              "        vertical-align: top;\n",
              "    }\n",
              "\n",
              "    .dataframe thead th {\n",
              "        text-align: right;\n",
              "    }\n",
              "</style>\n",
              "<table border=\"1\" class=\"dataframe\">\n",
              "  <thead>\n",
              "    <tr style=\"text-align: right;\">\n",
              "      <th></th>\n",
              "      <th>Date</th>\n",
              "      <th>Open</th>\n",
              "      <th>High</th>\n",
              "      <th>Low</th>\n",
              "      <th>Close</th>\n",
              "      <th>Volume</th>\n",
              "    </tr>\n",
              "  </thead>\n",
              "  <tbody>\n",
              "    <tr>\n",
              "      <th>0</th>\n",
              "      <td>1/3/2012</td>\n",
              "      <td>325.25</td>\n",
              "      <td>332.83</td>\n",
              "      <td>324.97</td>\n",
              "      <td>663.59</td>\n",
              "      <td>7,380,500</td>\n",
              "    </tr>\n",
              "    <tr>\n",
              "      <th>1</th>\n",
              "      <td>1/4/2012</td>\n",
              "      <td>331.27</td>\n",
              "      <td>333.87</td>\n",
              "      <td>329.08</td>\n",
              "      <td>666.45</td>\n",
              "      <td>5,749,400</td>\n",
              "    </tr>\n",
              "    <tr>\n",
              "      <th>2</th>\n",
              "      <td>1/5/2012</td>\n",
              "      <td>329.83</td>\n",
              "      <td>330.75</td>\n",
              "      <td>326.89</td>\n",
              "      <td>657.21</td>\n",
              "      <td>6,590,300</td>\n",
              "    </tr>\n",
              "    <tr>\n",
              "      <th>3</th>\n",
              "      <td>1/6/2012</td>\n",
              "      <td>328.34</td>\n",
              "      <td>328.77</td>\n",
              "      <td>323.68</td>\n",
              "      <td>648.24</td>\n",
              "      <td>5,405,900</td>\n",
              "    </tr>\n",
              "    <tr>\n",
              "      <th>4</th>\n",
              "      <td>1/9/2012</td>\n",
              "      <td>322.04</td>\n",
              "      <td>322.29</td>\n",
              "      <td>309.46</td>\n",
              "      <td>620.76</td>\n",
              "      <td>11,688,800</td>\n",
              "    </tr>\n",
              "  </tbody>\n",
              "</table>\n",
              "</div>"
            ],
            "text/plain": [
              "       Date    Open    High     Low   Close      Volume\n",
              "0  1/3/2012  325.25  332.83  324.97  663.59   7,380,500\n",
              "1  1/4/2012  331.27  333.87  329.08  666.45   5,749,400\n",
              "2  1/5/2012  329.83  330.75  326.89  657.21   6,590,300\n",
              "3  1/6/2012  328.34  328.77  323.68  648.24   5,405,900\n",
              "4  1/9/2012  322.04  322.29  309.46  620.76  11,688,800"
            ]
          },
          "metadata": {
            "tags": []
          },
          "execution_count": 2
        }
      ]
    },
    {
      "cell_type": "markdown",
      "metadata": {
        "id": "nsNa2TBtY_jE",
        "colab_type": "text"
      },
      "source": [
        "**Visualizing Dataset**"
      ]
    },
    {
      "cell_type": "code",
      "metadata": {
        "id": "UNIpL4stZCT1",
        "colab_type": "code",
        "colab": {
          "base_uri": "https://localhost:8080/",
          "height": 1105
        },
        "outputId": "d7ea1ea4-4afd-4f77-8097-371be4cd1cfc"
      },
      "source": [
        "print(df.info)\n"
      ],
      "execution_count": 3,
      "outputs": [
        {
          "output_type": "stream",
          "text": [
            "<bound method DataFrame.info of             Date    Open    High     Low   Close      Volume\n",
            "0       1/3/2012  325.25  332.83  324.97  663.59   7,380,500\n",
            "1       1/4/2012  331.27  333.87  329.08  666.45   5,749,400\n",
            "2       1/5/2012  329.83  330.75  326.89  657.21   6,590,300\n",
            "3       1/6/2012  328.34  328.77  323.68  648.24   5,405,900\n",
            "4       1/9/2012  322.04  322.29  309.46  620.76  11,688,800\n",
            "5      1/10/2012  313.70  315.72  307.30  621.43   8,824,000\n",
            "6      1/11/2012  310.59  313.52  309.40  624.25   4,817,800\n",
            "7      1/12/2012  314.43  315.26  312.08  627.92   3,764,400\n",
            "8      1/13/2012  311.96  312.30  309.37  623.28   4,631,800\n",
            "9      1/17/2012  314.81  314.81  311.67  626.86   3,832,800\n",
            "10     1/18/2012  312.14  315.82  309.90  631.18   5,544,000\n",
            "11     1/19/2012  319.30  319.30  314.55  637.82  12,657,800\n",
            "12     1/20/2012  294.16  294.40  289.76  584.39  21,231,800\n",
            "13     1/23/2012  291.91  293.23  290.49  583.92   6,851,300\n",
            "14     1/24/2012  292.07  292.74  287.92  579.34   6,134,400\n",
            "15     1/25/2012  287.68  288.27  282.13  567.93  10,012,700\n",
            "16     1/26/2012  284.92  286.17  281.22  566.54   6,476,500\n",
            "17     1/27/2012  284.32  289.08  283.60  578.39   7,262,000\n",
            "18     1/30/2012  287.95  288.92  285.63  576.11   4,678,400\n",
            "19     1/31/2012  290.41  290.91  286.50  578.52   4,300,700\n",
            "20      2/1/2012  291.38  291.66  288.49  579.24   4,658,700\n",
            "21      2/2/2012  291.34  292.11  289.95  583.51   4,847,400\n",
            "22      2/3/2012  294.23  297.42  292.93   594.7   6,360,700\n",
            "23      2/6/2012  296.39  304.27  295.90  607.42   7,386,700\n",
            "24      2/7/2012  302.44  303.56  300.75  605.11   4,199,700\n",
            "25      2/8/2012  303.18  304.53  301.24  608.18   3,686,400\n",
            "26      2/9/2012  304.87  306.10  303.36  609.79   4,546,300\n",
            "27     2/10/2012  302.81  302.93  300.87  604.25   4,667,700\n",
            "28     2/13/2012  304.11  305.77  303.87  610.52   3,646,100\n",
            "29     2/14/2012  304.63  304.86  301.25  608.09   3,620,900\n",
            "...          ...     ...     ...     ...     ...         ...\n",
            "1228  11/17/2016  766.92  772.70  764.23  771.23   1,304,000\n",
            "1229  11/18/2016  771.37  775.00  760.00  760.54   1,547,100\n",
            "1230  11/21/2016  762.61  769.70  760.60   769.2   1,330,600\n",
            "1231  11/22/2016  772.63  776.96  767.00  768.27   1,593,100\n",
            "1232  11/23/2016  767.73  768.28  755.25  760.99   1,478,400\n",
            "1233  11/25/2016  764.26  765.00  760.52  761.68     587,400\n",
            "1234  11/28/2016  760.00  779.53  759.80  768.24   2,188,200\n",
            "1235  11/29/2016  771.53  778.50  768.24  770.84   1,616,600\n",
            "1236  11/30/2016  770.07  772.99  754.83  758.04   2,392,900\n",
            "1237   12/1/2016  757.44  759.85  737.03  747.92   3,017,900\n",
            "1238   12/2/2016  744.59  754.00  743.10   750.5   1,452,500\n",
            "1239   12/5/2016  757.71  763.90  752.90  762.52   1,394,200\n",
            "1240   12/6/2016  764.73  768.83  757.34  759.11   1,690,700\n",
            "1241   12/7/2016  761.00  771.36  755.80  771.19   1,761,000\n",
            "1242   12/8/2016  772.48  778.18  767.23  776.42   1,488,100\n",
            "1243   12/9/2016  780.00  789.43  779.02  789.29   1,821,900\n",
            "1244  12/12/2016  785.04  791.25  784.35  789.27   2,104,100\n",
            "1245  12/13/2016  793.90  804.38  793.34   796.1   2,145,200\n",
            "1246  12/14/2016  797.40  804.00  794.01  797.07   1,704,200\n",
            "1247  12/15/2016  797.34  803.00  792.92  797.85   1,626,500\n",
            "1248  12/16/2016  800.40  800.86  790.29   790.8   2,443,800\n",
            "1249  12/19/2016  790.22  797.66  786.27   794.2   1,232,100\n",
            "1250  12/20/2016  796.76  798.65  793.27  796.42     951,000\n",
            "1251  12/21/2016  795.84  796.68  787.10  794.56   1,211,300\n",
            "1252  12/22/2016  792.36  793.32  788.58  791.26     972,200\n",
            "1253  12/23/2016  790.90  792.74  787.28  789.91     623,400\n",
            "1254  12/27/2016  790.68  797.86  787.66  791.55     789,100\n",
            "1255  12/28/2016  793.70  794.23  783.20  785.05   1,153,800\n",
            "1256  12/29/2016  783.33  785.93  778.92  782.79     744,300\n",
            "1257  12/30/2016  782.75  782.78  770.41  771.82   1,770,000\n",
            "\n",
            "[1258 rows x 6 columns]>\n"
          ],
          "name": "stdout"
        }
      ]
    },
    {
      "cell_type": "code",
      "metadata": {
        "id": "hPGFClxicFpf",
        "colab_type": "code",
        "colab": {
          "base_uri": "https://localhost:8080/",
          "height": 136
        },
        "outputId": "a33e3552-f07a-4bc9-88ff-e2e9dad3507f"
      },
      "source": [
        "print(df.isnull().sum())"
      ],
      "execution_count": 4,
      "outputs": [
        {
          "output_type": "stream",
          "text": [
            "Date      0\n",
            "Open      0\n",
            "High      0\n",
            "Low       0\n",
            "Close     0\n",
            "Volume    0\n",
            "dtype: int64\n"
          ],
          "name": "stdout"
        }
      ]
    },
    {
      "cell_type": "code",
      "metadata": {
        "id": "-MUsJqt1cLWy",
        "colab_type": "code",
        "colab": {
          "base_uri": "https://localhost:8080/",
          "height": 170
        },
        "outputId": "d9f733f3-5383-487d-c3e6-75e8daf23737"
      },
      "source": [
        "print(df.describe())"
      ],
      "execution_count": 5,
      "outputs": [
        {
          "output_type": "stream",
          "text": [
            "              Open         High          Low\n",
            "count  1258.000000  1258.000000  1258.000000\n",
            "mean    533.709833   537.880223   529.007409\n",
            "std     151.904442   153.008811   150.552807\n",
            "min     279.120000   281.210000   277.220000\n",
            "25%     404.115000   406.765000   401.765000\n",
            "50%     537.470000   540.750000   532.990000\n",
            "75%     654.922500   662.587500   644.800000\n",
            "max     816.680000   816.680000   805.140000\n"
          ],
          "name": "stdout"
        }
      ]
    },
    {
      "cell_type": "markdown",
      "metadata": {
        "id": "394Xj5xoZDio",
        "colab_type": "text"
      },
      "source": [
        "Cleaning and Preparing Dataset"
      ]
    },
    {
      "cell_type": "code",
      "metadata": {
        "id": "D_nULjOYZHLu",
        "colab_type": "code",
        "colab": {
          "base_uri": "https://localhost:8080/",
          "height": 1105
        },
        "outputId": "271fc560-bc95-4c2c-8bbc-7f6829d927d1"
      },
      "source": [
        "df['Close'] = df['Close'].str.replace(',','')\n",
        "\n",
        "df.Close = df.Close.astype(float)\n",
        "\n",
        "print(df.info)"
      ],
      "execution_count": 6,
      "outputs": [
        {
          "output_type": "stream",
          "text": [
            "<bound method DataFrame.info of             Date    Open    High     Low   Close      Volume\n",
            "0       1/3/2012  325.25  332.83  324.97  663.59   7,380,500\n",
            "1       1/4/2012  331.27  333.87  329.08  666.45   5,749,400\n",
            "2       1/5/2012  329.83  330.75  326.89  657.21   6,590,300\n",
            "3       1/6/2012  328.34  328.77  323.68  648.24   5,405,900\n",
            "4       1/9/2012  322.04  322.29  309.46  620.76  11,688,800\n",
            "5      1/10/2012  313.70  315.72  307.30  621.43   8,824,000\n",
            "6      1/11/2012  310.59  313.52  309.40  624.25   4,817,800\n",
            "7      1/12/2012  314.43  315.26  312.08  627.92   3,764,400\n",
            "8      1/13/2012  311.96  312.30  309.37  623.28   4,631,800\n",
            "9      1/17/2012  314.81  314.81  311.67  626.86   3,832,800\n",
            "10     1/18/2012  312.14  315.82  309.90  631.18   5,544,000\n",
            "11     1/19/2012  319.30  319.30  314.55  637.82  12,657,800\n",
            "12     1/20/2012  294.16  294.40  289.76  584.39  21,231,800\n",
            "13     1/23/2012  291.91  293.23  290.49  583.92   6,851,300\n",
            "14     1/24/2012  292.07  292.74  287.92  579.34   6,134,400\n",
            "15     1/25/2012  287.68  288.27  282.13  567.93  10,012,700\n",
            "16     1/26/2012  284.92  286.17  281.22  566.54   6,476,500\n",
            "17     1/27/2012  284.32  289.08  283.60  578.39   7,262,000\n",
            "18     1/30/2012  287.95  288.92  285.63  576.11   4,678,400\n",
            "19     1/31/2012  290.41  290.91  286.50  578.52   4,300,700\n",
            "20      2/1/2012  291.38  291.66  288.49  579.24   4,658,700\n",
            "21      2/2/2012  291.34  292.11  289.95  583.51   4,847,400\n",
            "22      2/3/2012  294.23  297.42  292.93  594.70   6,360,700\n",
            "23      2/6/2012  296.39  304.27  295.90  607.42   7,386,700\n",
            "24      2/7/2012  302.44  303.56  300.75  605.11   4,199,700\n",
            "25      2/8/2012  303.18  304.53  301.24  608.18   3,686,400\n",
            "26      2/9/2012  304.87  306.10  303.36  609.79   4,546,300\n",
            "27     2/10/2012  302.81  302.93  300.87  604.25   4,667,700\n",
            "28     2/13/2012  304.11  305.77  303.87  610.52   3,646,100\n",
            "29     2/14/2012  304.63  304.86  301.25  608.09   3,620,900\n",
            "...          ...     ...     ...     ...     ...         ...\n",
            "1228  11/17/2016  766.92  772.70  764.23  771.23   1,304,000\n",
            "1229  11/18/2016  771.37  775.00  760.00  760.54   1,547,100\n",
            "1230  11/21/2016  762.61  769.70  760.60  769.20   1,330,600\n",
            "1231  11/22/2016  772.63  776.96  767.00  768.27   1,593,100\n",
            "1232  11/23/2016  767.73  768.28  755.25  760.99   1,478,400\n",
            "1233  11/25/2016  764.26  765.00  760.52  761.68     587,400\n",
            "1234  11/28/2016  760.00  779.53  759.80  768.24   2,188,200\n",
            "1235  11/29/2016  771.53  778.50  768.24  770.84   1,616,600\n",
            "1236  11/30/2016  770.07  772.99  754.83  758.04   2,392,900\n",
            "1237   12/1/2016  757.44  759.85  737.03  747.92   3,017,900\n",
            "1238   12/2/2016  744.59  754.00  743.10  750.50   1,452,500\n",
            "1239   12/5/2016  757.71  763.90  752.90  762.52   1,394,200\n",
            "1240   12/6/2016  764.73  768.83  757.34  759.11   1,690,700\n",
            "1241   12/7/2016  761.00  771.36  755.80  771.19   1,761,000\n",
            "1242   12/8/2016  772.48  778.18  767.23  776.42   1,488,100\n",
            "1243   12/9/2016  780.00  789.43  779.02  789.29   1,821,900\n",
            "1244  12/12/2016  785.04  791.25  784.35  789.27   2,104,100\n",
            "1245  12/13/2016  793.90  804.38  793.34  796.10   2,145,200\n",
            "1246  12/14/2016  797.40  804.00  794.01  797.07   1,704,200\n",
            "1247  12/15/2016  797.34  803.00  792.92  797.85   1,626,500\n",
            "1248  12/16/2016  800.40  800.86  790.29  790.80   2,443,800\n",
            "1249  12/19/2016  790.22  797.66  786.27  794.20   1,232,100\n",
            "1250  12/20/2016  796.76  798.65  793.27  796.42     951,000\n",
            "1251  12/21/2016  795.84  796.68  787.10  794.56   1,211,300\n",
            "1252  12/22/2016  792.36  793.32  788.58  791.26     972,200\n",
            "1253  12/23/2016  790.90  792.74  787.28  789.91     623,400\n",
            "1254  12/27/2016  790.68  797.86  787.66  791.55     789,100\n",
            "1255  12/28/2016  793.70  794.23  783.20  785.05   1,153,800\n",
            "1256  12/29/2016  783.33  785.93  778.92  782.79     744,300\n",
            "1257  12/30/2016  782.75  782.78  770.41  771.82   1,770,000\n",
            "\n",
            "[1258 rows x 6 columns]>\n"
          ],
          "name": "stdout"
        }
      ]
    },
    {
      "cell_type": "markdown",
      "metadata": {
        "id": "sWOTefbAciDm",
        "colab_type": "text"
      },
      "source": [
        "**Visualizing Real trend**"
      ]
    },
    {
      "cell_type": "code",
      "metadata": {
        "id": "wVgSRQr_cZ0o",
        "colab_type": "code",
        "colab": {
          "base_uri": "https://localhost:8080/",
          "height": 269
        },
        "outputId": "17d56b9a-62cf-4120-f50c-86b0c2601419"
      },
      "source": [
        "df1 = df.iloc[:,[0,4]]\n",
        "\n",
        "df1.columns=['Date','Close']\n",
        "\n",
        "plt.plot(df1.Date, df1.Close)\n",
        "\n",
        "plt.show()"
      ],
      "execution_count": 8,
      "outputs": [
        {
          "output_type": "display_data",
          "data": {
            "image/png": "[encoded data removed]",
            "text/plain": [
              "<Figure size 432x288 with 1 Axes>"
            ]
          },
          "metadata": {
            "tags": []
          }
        }
      ]
    },
    {
      "cell_type": "markdown",
      "metadata": {
        "id": "7a7DBMIAbpOV",
        "colab_type": "text"
      },
      "source": [
        "**Calculating SMA**"
      ]
    },
    {
      "cell_type": "code",
      "metadata": {
        "id": "2wKxrHarbtsZ",
        "colab_type": "code",
        "colab": {}
      },
      "source": [
        "rolling_mean = df1.Close.rolling(window=50).mean()\n",
        "\n",
        "rolling_mean2 = df1.Close.rolling(window=200).mean()"
      ],
      "execution_count": 0,
      "outputs": []
    },
    {
      "cell_type": "markdown",
      "metadata": {
        "id": "4mlilEWCbucl",
        "colab_type": "text"
      },
      "source": [
        "**Plotting SMA with real trend**"
      ]
    },
    {
      "cell_type": "code",
      "metadata": {
        "id": "cXFV5ihHbxfW",
        "colab_type": "code",
        "colab": {
          "base_uri": "https://localhost:8080/",
          "height": 286
        },
        "outputId": "ec08783d-7e85-4cc5-c555-6fda636282e8"
      },
      "source": [
        "plt.plot(df1.Date, df1.Close, label='Google Trend')\n",
        "plt.plot(df1.Date, rolling_mean, label='50 Day SMA', color='orange')\n",
        "plt.plot(df1.Date, rolling_mean2, label='200 Day SMA', color='magenta')\n",
        "plt.legend(loc='upper left')\n",
        "plt.figure(figsize=(8, 6), dpi=80)\n",
        "plt.show()"
      ],
      "execution_count": 14,
      "outputs": [
        {
          "output_type": "display_data",
          "data": {
            "image/png": "[encoded data removed]",
            "text/plain": [
              "<Figure size 432x288 with 1 Axes>"
            ]
          },
          "metadata": {
            "tags": []
          }
        },
        {
          "output_type": "display_data",
          "data": {
            "text/plain": [
              "<Figure size 640x480 with 0 Axes>"
            ]
          },
          "metadata": {
            "tags": []
          }
        }
      ]
    },
    {
      "cell_type": "markdown",
      "metadata": {
        "id": "PPAQsH3dfKKm",
        "colab_type": "text"
      },
      "source": [
        "In this plot orange trend is faster series and magenta is slower series. We can see here in the middle of this chart, 50-period moving average crossed below the slower moving average, it would be a **sell signal**.\n",
        "But is too late to describe that.\n",
        "In between 500-600, we can see 50-period moving average crossed above the slower moving average, it would be a **buy signal**."
      ]
    },
    {
      "cell_type": "markdown",
      "metadata": {
        "id": "S7anKM_AdQbK",
        "colab_type": "text"
      },
      "source": [
        "**Calculating SMA with different period**"
      ]
    },
    {
      "cell_type": "code",
      "metadata": {
        "id": "kSDjIr2bdUkc",
        "colab_type": "code",
        "colab": {}
      },
      "source": [
        "rolling_mean_ = df1.Close.rolling(window=20).mean()\n",
        "rolling_mean2_ = df1.Close.rolling(window=100).mean()"
      ],
      "execution_count": 0,
      "outputs": []
    },
    {
      "cell_type": "markdown",
      "metadata": {
        "id": "txlW-vU8dXVW",
        "colab_type": "text"
      },
      "source": [
        "**Plotting SMA with different period**"
      ]
    },
    {
      "cell_type": "code",
      "metadata": {
        "id": "Ep-SptUzdc8c",
        "colab_type": "code",
        "colab": {
          "base_uri": "https://localhost:8080/",
          "height": 286
        },
        "outputId": "6025cf63-50cb-4c56-ace6-6c4ac6fe20cc"
      },
      "source": [
        "plt.plot(df1.Date, df.Close, label='Google Trend')\n",
        "plt.plot(df1.Date, rolling_mean_, label='20 Day SMA', color='orange')\n",
        "plt.plot(df1.Date, rolling_mean2_, label='100 Day SMA', color='magenta')\n",
        "plt.legend(loc='upper left')\n",
        "plt.figure(figsize=(8, 6), dpi=80)\n",
        "plt.show()"
      ],
      "execution_count": 16,
      "outputs": [
        {
          "output_type": "display_data",
          "data": {
            "image/png": "[encoded data removed]",
            "text/plain": [
              "<Figure size 432x288 with 1 Axes>"
            ]
          },
          "metadata": {
            "tags": []
          }
        },
        {
          "output_type": "display_data",
          "data": {
            "text/plain": [
              "<Figure size 640x480 with 0 Axes>"
            ]
          },
          "metadata": {
            "tags": []
          }
        }
      ]
    },
    {
      "cell_type": "markdown",
      "metadata": {
        "id": "zTfll7K8hySW",
        "colab_type": "text"
      },
      "source": [
        "In this plot also orange trend is faster series and magenta is slower series. We can see here in the middle of this chart, 50-period moving average crossed below the slower moving average, it would be a **sell signal**.\n",
        "And it is better than before, it is more reactive.\n",
        "In between 500-600, we can see 50-period moving average crossed above the slower moving average, it would be a **buy signal**."
      ]
    },
    {
      "cell_type": "markdown",
      "metadata": {
        "id": "4qi8_OpviNqf",
        "colab_type": "text"
      },
      "source": [
        "# Thanks"
      ]
    }
  ]
}